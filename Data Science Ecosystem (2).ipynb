{
 "cells": [
  {
   "cell_type": "markdown",
   "id": "f804d2af-3893-4833-a3c0-3f5cf25a0332",
   "metadata": {},
   "source": [
    "# Data Science Tools and Ecosystems"
   ]
  },
  {
   "cell_type": "markdown",
   "id": "559f1ef6-5e47-41bc-9b43-4a6bcfc6ff9c",
   "metadata": {},
   "source": [
    "In this notebook, Data Science Tools and Ecosystem are summarized."
   ]
  },
  {
   "cell_type": "markdown",
   "id": "a0a7e342-6c79-4644-bb16-ae2a59d45c4c",
   "metadata": {},
   "source": [
    "# Objective:\n",
    "* Different tools and categories of tools used by data scientist \n",
    "* common examples of each\n",
    "* open source and cloud based \n",
    "* popular language for data science \n",
    "* commonly used libraries used by data scientist\n",
    "* data science tools\n"
   ]
  },
  {
   "cell_type": "markdown",
   "id": "fc08070a-59f4-4781-aae7-bb0b23d3f9da",
   "metadata": {},
   "source": [
    "Some of the popular language that Data Scientist use are:\n",
    "1. Python\n",
    "2. R\n",
    "3. SQL\n",
    "4. Scala"
   ]
  },
  {
   "cell_type": "code",
   "execution_count": null,
   "id": "4660804a-06de-4117-8056-6c1b9ff53e44",
   "metadata": {},
   "outputs": [],
   "source": [
    "Some of the commonly used libraries used by Data Scientist include :\n",
    "1. Pandas \n",
    "2. NomPy\n",
    "3. Matplotlib"
   ]
  },
  {
   "cell_type": "markdown",
   "id": "fa49e2be-2771-442a-9567-15d2ed800422",
   "metadata": {},
   "source": [
    "| Data Science Tools |\n",
    "----------------------\n",
    "| Jupyter |\n",
    "| R studio |\n",
    "| Microsoft Visual Studio |\n",
    " \n"
   ]
  },
  {
   "cell_type": "markdown",
   "id": "3b48beec-974b-43b5-9980-bbf73d6d833d",
   "metadata": {},
   "source": []
  },
  {
   "cell_type": "code",
   "execution_count": null,
   "id": "8964e6b5-da0f-4028-8b0a-5f460747624d",
   "metadata": {},
   "outputs": [],
   "source": [
    "### Bellow are a few examples of evaluating arithmetic expressions in python. \n",
    "\n",
    "p = pow(3, 4)\n",
    "\n",
    "print(p)\n",
    "\n",
    "x = min(1, 3, 6)\n",
    "\n",
    "y = max(1, 3, 6)\n",
    "\n",
    "print(x)\n",
    "\n",
    "print(y)"
   ]
  },
  {
   "cell_type": "code",
   "execution_count": 10,
   "id": "949fd087-66e1-4301-85b5-e6315545eb1a",
   "metadata": {},
   "outputs": [
    {
     "data": {
      "text/plain": [
       "17"
      ]
     },
     "execution_count": 10,
     "metadata": {},
     "output_type": "execute_result"
    }
   ],
   "source": [
    "# This a simple arithmetic expression to multiply then add intigers\n",
    "result = (3*4) + 5\n",
    "result # Display the result"
   ]
  },
  {
   "cell_type": "code",
   "execution_count": 19,
   "id": "a8e444ae-a4e3-49cd-993d-e728e73d596f",
   "metadata": {},
   "outputs": [
    {
     "data": {
      "text/plain": [
       "3.3333333333333335"
      ]
     },
     "execution_count": 19,
     "metadata": {},
     "output_type": "execute_result"
    }
   ],
   "source": [
    "# This will convert 200 minutes to hours by diving by 60\n",
    "result = 200/60\n",
    "result # Display the result "
   ]
  },
  {
   "cell_type": "markdown",
   "id": "c5b5470d-62d9-4609-bece-16df85dbf4e6",
   "metadata": {},
   "source": [
    "## Author \n",
    "#### Ebada Musa Mohammed "
   ]
  },
  {
   "cell_type": "code",
   "execution_count": null,
   "id": "f3f913f8-bf51-4b1f-bf46-4d47ff213236",
   "metadata": {},
   "outputs": [],
   "source": []
  }
 ],
 "metadata": {
  "kernelspec": {
   "display_name": "anaconda-panel-2023.05-py310",
   "language": "python",
   "name": "conda-env-anaconda-panel-2023.05-py310-py"
  },
  "language_info": {
   "codemirror_mode": {
    "name": "ipython",
    "version": 3
   },
   "file_extension": ".py",
   "mimetype": "text/x-python",
   "name": "python",
   "nbconvert_exporter": "python",
   "pygments_lexer": "ipython3",
   "version": "3.11.5"
  }
 },
 "nbformat": 4,
 "nbformat_minor": 5
}
